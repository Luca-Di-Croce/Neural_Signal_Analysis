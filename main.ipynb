{
  "cells": [
    {
      "cell_type": "markdown",
      "metadata": {},
      "source": [
        "# Imports"
      ]
    },
    {
      "cell_type": "code",
      "execution_count": null,
      "metadata": {
        "colab": {
          "base_uri": "https://localhost:8080/"
        },
        "id": "CZ1TRsWrACG1",
        "outputId": "988859c3-01b3-490a-cd4f-6409b4a3c247"
      },
      "outputs": [],
      "source": [
        "from Utilities import *\n",
        "from Models import *\n",
        "from Pipelines import *\n",
        "from Comparison import *\n",
        "import numpy as np\n",
        "\n",
        "if not hasattr(builtins, \"unicode\"):\n",
        "  builtins.unicode = str\n",
        "  np.unicode_ = np.str_\n"
      ]
    },
    {
      "cell_type": "markdown",
      "metadata": {},
      "source": [
        "# Data Loading"
      ]
    },
    {
      "cell_type": "markdown",
      "metadata": {},
      "source": [
        "Code to load all data and data splits needed for the code. Preprocessing applied in Data_pipeline()"
      ]
    },
    {
      "cell_type": "code",
      "execution_count": null,
      "metadata": {
        "colab": {
          "base_uri": "https://localhost:8080/"
        },
        "id": "EwZdCVDfWwXP",
        "outputId": "6ef4db5a-5f95-4553-a070-8405910e16e0"
      },
      "outputs": [],
      "source": [
        "EEG_smoothed, y_smooth_5, y_smooth, good_channels = Data_Pipeline()"
      ]
    },
    {
      "cell_type": "code",
      "execution_count": null,
      "metadata": {},
      "outputs": [],
      "source": [
        "bandwise_EEG = split_EEG_by_bandwave(EEG_smoothed, 2000)\n",
        "band_freqs_keys = [\"delta\", \"theta\", \"alpha\", \"beta\", \"gamma\", \"High Gamma\", \"Ripples\", \"Fast Ripples\", \"Multi-Unit\"]"
      ]
    },
    {
      "cell_type": "code",
      "execution_count": null,
      "metadata": {},
      "outputs": [],
      "source": [
        "test_bandpass_filters(EEG_smoothed, 2000)"
      ]
    },
    {
      "cell_type": "code",
      "execution_count": null,
      "metadata": {},
      "outputs": [],
      "source": [
        "regionwise_EEG = split_eeg_by_region(EEG_smoothed, good_channels)"
      ]
    },
    {
      "cell_type": "code",
      "execution_count": null,
      "metadata": {},
      "outputs": [],
      "source": [
        "regionwise_band_EEG = split_EEG_by_band_region(EEG_smoothed, good_channels, 2000)"
      ]
    },
    {
      "cell_type": "markdown",
      "metadata": {},
      "source": [
        "# ESN Executions"
      ]
    },
    {
      "cell_type": "markdown",
      "metadata": {},
      "source": [
        "Code to run and train all ESN models used in the study"
      ]
    },
    {
      "cell_type": "markdown",
      "metadata": {},
      "source": [
        "## Simple ESN"
      ]
    },
    {
      "cell_type": "code",
      "execution_count": null,
      "metadata": {},
      "outputs": [],
      "source": [
        "run_ESN(EEG_smoothed, y_smooth_5, n_classes=5, reservoir_size=500, epochs=150)"
      ]
    },
    {
      "cell_type": "code",
      "execution_count": null,
      "metadata": {},
      "outputs": [],
      "source": [
        "run_ESN(EEG_smoothed, y_smooth, n_classes=10, reservoir_size=500, epochs=150)"
      ]
    },
    {
      "cell_type": "markdown",
      "metadata": {},
      "source": [
        "## Regionwise ESN"
      ]
    },
    {
      "cell_type": "code",
      "execution_count": null,
      "metadata": {},
      "outputs": [],
      "source": [
        "for region, data in regionwise_EEG.items():\n",
        "    print(\"Region\", region)\n",
        "    run_ESN(data, y_smooth_5, n_classes = 5, reservoir_size = 500, epochs=50, standarize = True)"
      ]
    },
    {
      "cell_type": "code",
      "execution_count": null,
      "metadata": {},
      "outputs": [],
      "source": [
        "for region, data in regionwise_EEG.items():\n",
        "    print(\"Region\", region)\n",
        "    run_ESN(data, y_smooth, n_classes = 10, reservoir_size = 500, epochs=50, standarize = True)"
      ]
    },
    {
      "cell_type": "code",
      "execution_count": null,
      "metadata": {},
      "outputs": [],
      "source": [
        "run_regionwise_ESN(regionwise_EEG, y_smooth_5, n_classes=5, reservoir_size=500)"
      ]
    },
    {
      "cell_type": "code",
      "execution_count": null,
      "metadata": {},
      "outputs": [],
      "source": [
        "run_regionwise_ESN(regionwise_EEG, y_smooth, n_classes=10, reservoir_size=500)"
      ]
    },
    {
      "cell_type": "markdown",
      "metadata": {},
      "source": [
        "## Bandwise ESN"
      ]
    },
    {
      "cell_type": "code",
      "execution_count": null,
      "metadata": {},
      "outputs": [],
      "source": [
        "print(bandwise_EEG.shape)"
      ]
    },
    {
      "cell_type": "code",
      "execution_count": null,
      "metadata": {},
      "outputs": [],
      "source": [
        "for i in range(len(band_freqs_keys)):\n",
        "    print(\"---------------------------------\", band_freqs_keys[i], \"---------------------------------\")\n",
        "    print()\n",
        "    # Convert the bandwise EEG data to a 2D array\n",
        "    run_ESN(bandwise_EEG[:, i, :, :], y_smooth_5, n_classes = 5, reservoir_size = 500, epochs=150, standarize = True)\n",
        "    print()\n",
        "    print()"
      ]
    },
    {
      "cell_type": "code",
      "execution_count": null,
      "metadata": {},
      "outputs": [],
      "source": [
        "for i in range(len(band_freqs_keys)):\n",
        "    print(\"---------------------------------\", band_freqs_keys[i], \"---------------------------------\")\n",
        "    print()\n",
        "    # Convert the bandwise EEG data to a 2D array\n",
        "    run_ESN(bandwise_EEG[:, i, :, :], y_smooth, n_classes = 10, reservoir_size = 500, epochs=150, standarize = True)\n",
        "    print()\n",
        "    print()"
      ]
    },
    {
      "cell_type": "code",
      "execution_count": null,
      "metadata": {},
      "outputs": [],
      "source": [
        "import Models\n",
        "importlib.reload(Models)\n",
        "from Models import run_bandwise_ESN, run_regionwise_ESN, run_band_regionwise_ESN"
      ]
    },
    {
      "cell_type": "code",
      "execution_count": null,
      "metadata": {},
      "outputs": [],
      "source": [
        "run_bandwise_ESN(bandwise_EEG, y_smooth_5, n_classes=5, reservoir_size=500)"
      ]
    },
    {
      "cell_type": "code",
      "execution_count": null,
      "metadata": {},
      "outputs": [],
      "source": [
        "run_bandwise_ESN(bandwise_EEG, y_smooth, n_classes=10, reservoir_size=500)"
      ]
    },
    {
      "cell_type": "markdown",
      "metadata": {},
      "source": [
        "## Region-bandwise ESN"
      ]
    },
    {
      "cell_type": "code",
      "execution_count": null,
      "metadata": {},
      "outputs": [],
      "source": [
        "run_band_regionwise_ESN(regionwise_band_EEG, y_smooth_5, n_classes=5, reservoir_size=500)\n"
      ]
    },
    {
      "cell_type": "code",
      "execution_count": null,
      "metadata": {},
      "outputs": [],
      "source": [
        "run_band_regionwise_ESN(regionwise_band_EEG, y_smooth, n_classes=10, reservoir_size=500)"
      ]
    },
    {
      "cell_type": "markdown",
      "metadata": {},
      "source": [
        "# Comparisons"
      ]
    },
    {
      "cell_type": "markdown",
      "metadata": {},
      "source": [
        "Code to generate the figures seen in Section 5.2, with exception of the PCA, that was generated from the run_band_regionwise_ESN function"
      ]
    },
    {
      "cell_type": "markdown",
      "metadata": {},
      "source": [
        "## Comparison on 500 Nodes"
      ]
    },
    {
      "cell_type": "code",
      "execution_count": null,
      "metadata": {},
      "outputs": [],
      "source": [
        "acc_5, W_Out_5, acc_10, W_Out_10, W = run_ESN_coefs(EEG_smoothed, y_smooth_5, y_smooth, reservoir_size=500, epochs=150)"
      ]
    },
    {
      "cell_type": "code",
      "execution_count": null,
      "metadata": {},
      "outputs": [],
      "source": [
        "keys, dist_matrix = compare_wout_sets(W_Out_5, threshold=0.15, method='spectral')\n",
        "\n",
        "print(dist_matrix)"
      ]
    },
    {
      "cell_type": "code",
      "execution_count": null,
      "metadata": {},
      "outputs": [],
      "source": [
        "mean_wouts = {key: W.mean(axis=1) for key, W in W_Out_10.items()}\n",
        "\n",
        "combined_Wouts = {f\"5_class_{i}\": W_Out_5[f\"class_{i}\"] for i in range(1, 6)}\n",
        "combined_Wouts.update({f\"10_class_{i}\": W_Out_10[f\"class_{i}\"] for i in range(1, 6)})\n",
        "\n",
        "class_pairs = [(f\"5_class_{i}\", f\"10_class_{i}\") for i in range(1, 6)]\n",
        "\n",
        "combined_Wouts = {}\n",
        "\n",
        "# 5-class model\n",
        "for i in range(1, 6):\n",
        "    combined_Wouts[f\"5_class_{i}\"] = W_Out_5[f\"class_{i}\"]\n",
        "\n",
        "# 10-class model, first 5\n",
        "for i in range(1, 6):\n",
        "    combined_Wouts[f\"10_class_{i}\"] = W_Out_10[f\"class_{i}\"]\n",
        "\n",
        "# 10-class model, next 5\n",
        "for i in range(6, 11):\n",
        "    combined_Wouts[f\"10_class_extra_{i}\"] = W_Out_10[f\"class_{i}\"]\n",
        "\n",
        "class_triplets = [\n",
        "    (f\"5_class_{i}\", f\"10_class_{i}\", f\"10_class_extra_{i+5}\") for i in range(1, 6)\n",
        "]\n"
      ]
    },
    {
      "cell_type": "code",
      "execution_count": null,
      "metadata": {},
      "outputs": [],
      "source": [
        "plot_reservoir_graph_comparisons(combined_Wouts, W, class_pairs, save_dir='reservoir_graphs', show=True)\n"
      ]
    },
    {
      "cell_type": "code",
      "execution_count": null,
      "metadata": {},
      "outputs": [],
      "source": [
        "plot_reservoir_graph_comparisons_3way(combined_Wouts, W, class_triplets, save_dir='reservoir_graphs_3way', show=True)"
      ]
    },
    {
      "cell_type": "code",
      "execution_count": null,
      "metadata": {},
      "outputs": [],
      "source": [
        "plot_reservoir_heatmap_comparisons_binned(combined_Wouts, class_triplets, save_dir='reservoir_heatmaps_3way', show=True)"
      ]
    },
    {
      "cell_type": "code",
      "execution_count": null,
      "metadata": {},
      "outputs": [],
      "source": [
        "plot_class_similarity_heatmaps_compressed(W_Out_5, W_Out_10)\n",
        "\n",
        "plot_class_similarity_heatmaps(W_Out_5, W_Out_10, save_dir='reservoir_class_diff_heatmaps')"
      ]
    },
    {
      "cell_type": "markdown",
      "metadata": {},
      "source": [
        "## Comparison on 50 Nodes"
      ]
    },
    {
      "cell_type": "code",
      "execution_count": null,
      "metadata": {},
      "outputs": [],
      "source": [
        "acc_5, W_Out_5, acc_10, W_Out_10, W = run_ESN_coefs(EEG_smoothed, y_smooth_5, y_smooth, reservoir_size=50, epochs=25)"
      ]
    },
    {
      "cell_type": "code",
      "execution_count": null,
      "metadata": {},
      "outputs": [],
      "source": [
        "keys, dist_matrix = compare_wout_sets(W_Out_5, threshold=0.15, method='spectral')\n",
        "\n",
        "print(dist_matrix)"
      ]
    },
    {
      "cell_type": "code",
      "execution_count": null,
      "metadata": {},
      "outputs": [],
      "source": [
        "mean_wouts = {key: W.mean(axis=1) for key, W in W_Out_10.items()}\n",
        "\n",
        "combined_Wouts = {f\"5_class_{i}\": W_Out_5[f\"class_{i}\"] for i in range(1, 6)}\n",
        "combined_Wouts.update({f\"10_class_{i}\": W_Out_10[f\"class_{i}\"] for i in range(1, 6)})\n",
        "\n",
        "class_pairs = [(f\"5_class_{i}\", f\"10_class_{i}\") for i in range(1, 6)]\n",
        "\n",
        "combined_Wouts = {}\n",
        "\n",
        "# 5-class model\n",
        "for i in range(1, 6):\n",
        "    combined_Wouts[f\"5_class_{i}\"] = W_Out_5[f\"class_{i}\"]\n",
        "\n",
        "# 10-class model, first 5\n",
        "for i in range(1, 6):\n",
        "    combined_Wouts[f\"10_class_{i}\"] = W_Out_10[f\"class_{i}\"]\n",
        "\n",
        "# 10-class model, next 5\n",
        "for i in range(6, 11):\n",
        "    combined_Wouts[f\"10_class_extra_{i}\"] = W_Out_10[f\"class_{i}\"]\n",
        "\n",
        "class_triplets = [\n",
        "    (f\"5_class_{i}\", f\"10_class_{i}\", f\"10_class_extra_{i+5}\") for i in range(1, 6)\n",
        "]\n"
      ]
    },
    {
      "cell_type": "code",
      "execution_count": null,
      "metadata": {},
      "outputs": [],
      "source": [
        "plot_reservoir_graph_comparisons(combined_Wouts, W, class_pairs, save_dir='reservoir_graphs', show=True)"
      ]
    },
    {
      "cell_type": "code",
      "execution_count": null,
      "metadata": {},
      "outputs": [],
      "source": [
        "plot_reservoir_graph_comparisons_3way(combined_Wouts, W, class_triplets, save_dir='reservoir_graphs_3way', show=True)"
      ]
    },
    {
      "cell_type": "code",
      "execution_count": null,
      "metadata": {},
      "outputs": [],
      "source": [
        "plot_reservoir_heatmap_comparisons_binned(combined_Wouts, class_triplets, save_dir='reservoir_heatmaps_3way', show=True)"
      ]
    },
    {
      "cell_type": "code",
      "execution_count": null,
      "metadata": {},
      "outputs": [],
      "source": [
        "plot_class_similarity_heatmaps_compressed(W_Out_5, W_Out_10)\n",
        "\n",
        "plot_class_similarity_heatmaps(W_Out_5, W_Out_10, save_dir='reservoir_class_diff_heatmaps')"
      ]
    }
  ],
  "metadata": {
    "colab": {
      "provenance": []
    },
    "kernelspec": {
      "display_name": "TFM",
      "language": "python",
      "name": "python3"
    },
    "language_info": {
      "codemirror_mode": {
        "name": "ipython",
        "version": 3
      },
      "file_extension": ".py",
      "mimetype": "text/x-python",
      "name": "python",
      "nbconvert_exporter": "python",
      "pygments_lexer": "ipython3",
      "version": "3.10.16"
    }
  },
  "nbformat": 4,
  "nbformat_minor": 0
}
